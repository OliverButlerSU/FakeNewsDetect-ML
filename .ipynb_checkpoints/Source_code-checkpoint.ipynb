{
 "cells": [
  {
   "cell_type": "markdown",
   "id": "1c78d999-6b0a-42ca-879a-29381984bf9a",
   "metadata": {},
   "source": [
    "# 1. Prerequisites"
   ]
  },
  {
   "cell_type": "code",
   "execution_count": 1,
   "id": "80897459-8b4f-4d34-9494-23de940d347e",
   "metadata": {},
   "outputs": [
    {
     "name": "stdout",
     "output_type": "stream",
     "text": [
      "Numpy version: 1.26.0\n",
      "Pandas version: 2.1.1\n",
      "Scikit version: 1.2.2\n"
     ]
    }
   ],
   "source": [
    "#Needed libraries\n",
    "import numpy as np\n",
    "import pandas as pd\n",
    "import sklearn as sk\n",
    "\n",
    "print(\"Numpy version: {}\".format(np.__version__))\n",
    "print(\"Pandas version: {}\".format(pd.__version__))\n",
    "print(\"Scikit version: {}\".format(sk.__version__))"
   ]
  },
  {
   "cell_type": "code",
   "execution_count": 2,
   "id": "7871d2b5-f977-4e12-a6dc-ed8d1ebd69a5",
   "metadata": {},
   "outputs": [],
   "source": [
    "#Loading datasets\n",
    "from pathlib import Path\n",
    "\n",
    "def loadTestData():\n",
    "    testPath = Path(\"Datasets/mediaeval-2015-testset.txt\")\n",
    "    if not testPath.is_file():\n",
    "        print(\"Testing data was not found\")\n",
    "        return\n",
    "    return pd.read_csv(testPath, sep='\\t')\n",
    "\n",
    "def loadTrainData():\n",
    "    trainPath = Path(\"Datasets/mediaeval-2015-trainingset.txt\")\n",
    "    if not trainPath.is_file():\n",
    "        print(\"Training data was not found\")\n",
    "        return\n",
    "    return pd.read_csv(trainPath, sep='\\t')\n",
    "\n",
    "\n",
    "trainData = loadTrainData()\n",
    "testData = loadTestData()"
   ]
  },
  {
   "cell_type": "markdown",
   "id": "b77f3aac-dd8d-480b-9f56-ef53f3f85512",
   "metadata": {},
   "source": [
    "# 2. Data Analysis"
   ]
  },
  {
   "cell_type": "code",
   "execution_count": 3,
   "id": "0fdb9517-a530-4dfd-ba84-5d54b0d63182",
   "metadata": {},
   "outputs": [
    {
     "name": "stdout",
     "output_type": "stream",
     "text": [
      "<class 'pandas.core.frame.DataFrame'>\n",
      "RangeIndex: 14277 entries, 0 to 14276\n",
      "Data columns (total 7 columns):\n",
      " #   Column      Non-Null Count  Dtype \n",
      "---  ------      --------------  ----- \n",
      " 0   tweetId     14277 non-null  int64 \n",
      " 1   tweetText   14277 non-null  object\n",
      " 2   userId      14277 non-null  int64 \n",
      " 3   imageId(s)  14277 non-null  object\n",
      " 4   username    14277 non-null  object\n",
      " 5   timestamp   14277 non-null  object\n",
      " 6   label       14277 non-null  object\n",
      "dtypes: int64(2), object(5)\n",
      "memory usage: 780.9+ KB\n"
     ]
    },
    {
     "data": {
      "text/html": [
       "<div>\n",
       "<style scoped>\n",
       "    .dataframe tbody tr th:only-of-type {\n",
       "        vertical-align: middle;\n",
       "    }\n",
       "\n",
       "    .dataframe tbody tr th {\n",
       "        vertical-align: top;\n",
       "    }\n",
       "\n",
       "    .dataframe thead th {\n",
       "        text-align: right;\n",
       "    }\n",
       "</style>\n",
       "<table border=\"1\" class=\"dataframe\">\n",
       "  <thead>\n",
       "    <tr style=\"text-align: right;\">\n",
       "      <th></th>\n",
       "      <th>tweetId</th>\n",
       "      <th>tweetText</th>\n",
       "      <th>userId</th>\n",
       "      <th>imageId(s)</th>\n",
       "      <th>username</th>\n",
       "      <th>timestamp</th>\n",
       "      <th>label</th>\n",
       "    </tr>\n",
       "  </thead>\n",
       "  <tbody>\n",
       "    <tr>\n",
       "      <th>0</th>\n",
       "      <td>263046056240115712</td>\n",
       "      <td>¿Se acuerdan de la película: “El día después d...</td>\n",
       "      <td>21226711</td>\n",
       "      <td>sandyA_fake_46</td>\n",
       "      <td>iAnnieM</td>\n",
       "      <td>Mon Oct 29 22:34:01 +0000 2012</td>\n",
       "      <td>fake</td>\n",
       "    </tr>\n",
       "    <tr>\n",
       "      <th>1</th>\n",
       "      <td>262995061304852481</td>\n",
       "      <td>@milenagimon: Miren a Sandy en NY!  Tremenda i...</td>\n",
       "      <td>192378571</td>\n",
       "      <td>sandyA_fake_09</td>\n",
       "      <td>CarlosVerareal</td>\n",
       "      <td>Mon Oct 29 19:11:23 +0000 2012</td>\n",
       "      <td>fake</td>\n",
       "    </tr>\n",
       "    <tr>\n",
       "      <th>2</th>\n",
       "      <td>262979898002534400</td>\n",
       "      <td>Buena la foto del Huracán Sandy, me recuerda a...</td>\n",
       "      <td>132303095</td>\n",
       "      <td>sandyA_fake_09</td>\n",
       "      <td>LucasPalape</td>\n",
       "      <td>Mon Oct 29 18:11:08 +0000 2012</td>\n",
       "      <td>fake</td>\n",
       "    </tr>\n",
       "    <tr>\n",
       "      <th>3</th>\n",
       "      <td>262996108400271360</td>\n",
       "      <td>Scary shit #hurricane #NY http://t.co/e4JLBUfH</td>\n",
       "      <td>241995902</td>\n",
       "      <td>sandyA_fake_29</td>\n",
       "      <td>Haaaaarryyy</td>\n",
       "      <td>Mon Oct 29 19:15:33 +0000 2012</td>\n",
       "      <td>fake</td>\n",
       "    </tr>\n",
       "    <tr>\n",
       "      <th>4</th>\n",
       "      <td>263018881839411200</td>\n",
       "      <td>My fave place in the world #nyc #hurricane #sa...</td>\n",
       "      <td>250315890</td>\n",
       "      <td>sandyA_fake_15</td>\n",
       "      <td>princess__natt</td>\n",
       "      <td>Mon Oct 29 20:46:02 +0000 2012</td>\n",
       "      <td>fake</td>\n",
       "    </tr>\n",
       "    <tr>\n",
       "      <th>...</th>\n",
       "      <td>...</td>\n",
       "      <td>...</td>\n",
       "      <td>...</td>\n",
       "      <td>...</td>\n",
       "      <td>...</td>\n",
       "      <td>...</td>\n",
       "      <td>...</td>\n",
       "    </tr>\n",
       "    <tr>\n",
       "      <th>14272</th>\n",
       "      <td>443231991593304064</td>\n",
       "      <td>@BobombDom *slaps TweetDeck with the PigFish h...</td>\n",
       "      <td>2179310905</td>\n",
       "      <td>pigFish_01</td>\n",
       "      <td>Da_Vault_Hunter</td>\n",
       "      <td>Tue Mar 11 03: 48: 36 +0000 2014</td>\n",
       "      <td>fake</td>\n",
       "    </tr>\n",
       "    <tr>\n",
       "      <th>14273</th>\n",
       "      <td>443086239127076865</td>\n",
       "      <td>New Species of Fish found in Brazil or just Re...</td>\n",
       "      <td>254843101</td>\n",
       "      <td>pigFish_01</td>\n",
       "      <td>DjSituation_RC</td>\n",
       "      <td>Mon Mar 10 18: 09: 26 +0000 2014</td>\n",
       "      <td>fake</td>\n",
       "    </tr>\n",
       "    <tr>\n",
       "      <th>14274</th>\n",
       "      <td>442978105238753280</td>\n",
       "      <td>What do we call this? #pigFISH http: \\/\\/t.co\\...</td>\n",
       "      <td>2367553228</td>\n",
       "      <td>pigFish_01</td>\n",
       "      <td>Vivo1Vuyo</td>\n",
       "      <td>Mon Mar 10 10: 59: 45 +0000 2014</td>\n",
       "      <td>fake</td>\n",
       "    </tr>\n",
       "    <tr>\n",
       "      <th>14275</th>\n",
       "      <td>442753479782989824</td>\n",
       "      <td>Pigfish ? E dopo il pescecane c'è il pesce mai...</td>\n",
       "      <td>603120231</td>\n",
       "      <td>pigFish_01</td>\n",
       "      <td>CosimoTarta</td>\n",
       "      <td>Sun Mar 09 20: 07: 10 +0000 2014</td>\n",
       "      <td>fake</td>\n",
       "    </tr>\n",
       "    <tr>\n",
       "      <th>14276</th>\n",
       "      <td>442700377860104192</td>\n",
       "      <td>For those who can't decide between fish or mea...</td>\n",
       "      <td>25086784</td>\n",
       "      <td>pigFish_01</td>\n",
       "      <td>johnszim</td>\n",
       "      <td>Sun Mar 09 16: 36: 09 +0000 2014</td>\n",
       "      <td>fake</td>\n",
       "    </tr>\n",
       "  </tbody>\n",
       "</table>\n",
       "<p>14277 rows × 7 columns</p>\n",
       "</div>"
      ],
      "text/plain": [
       "                  tweetId                                          tweetText  \\\n",
       "0      263046056240115712  ¿Se acuerdan de la película: “El día después d...   \n",
       "1      262995061304852481  @milenagimon: Miren a Sandy en NY!  Tremenda i...   \n",
       "2      262979898002534400  Buena la foto del Huracán Sandy, me recuerda a...   \n",
       "3      262996108400271360     Scary shit #hurricane #NY http://t.co/e4JLBUfH   \n",
       "4      263018881839411200  My fave place in the world #nyc #hurricane #sa...   \n",
       "...                   ...                                                ...   \n",
       "14272  443231991593304064  @BobombDom *slaps TweetDeck with the PigFish h...   \n",
       "14273  443086239127076865  New Species of Fish found in Brazil or just Re...   \n",
       "14274  442978105238753280  What do we call this? #pigFISH http: \\/\\/t.co\\...   \n",
       "14275  442753479782989824  Pigfish ? E dopo il pescecane c'è il pesce mai...   \n",
       "14276  442700377860104192  For those who can't decide between fish or mea...   \n",
       "\n",
       "           userId      imageId(s)         username  \\\n",
       "0        21226711  sandyA_fake_46          iAnnieM   \n",
       "1       192378571  sandyA_fake_09   CarlosVerareal   \n",
       "2       132303095  sandyA_fake_09      LucasPalape   \n",
       "3       241995902  sandyA_fake_29      Haaaaarryyy   \n",
       "4       250315890  sandyA_fake_15   princess__natt   \n",
       "...           ...             ...              ...   \n",
       "14272  2179310905      pigFish_01  Da_Vault_Hunter   \n",
       "14273   254843101      pigFish_01   DjSituation_RC   \n",
       "14274  2367553228      pigFish_01        Vivo1Vuyo   \n",
       "14275   603120231      pigFish_01      CosimoTarta   \n",
       "14276    25086784      pigFish_01         johnszim   \n",
       "\n",
       "                              timestamp label  \n",
       "0        Mon Oct 29 22:34:01 +0000 2012  fake  \n",
       "1        Mon Oct 29 19:11:23 +0000 2012  fake  \n",
       "2        Mon Oct 29 18:11:08 +0000 2012  fake  \n",
       "3        Mon Oct 29 19:15:33 +0000 2012  fake  \n",
       "4        Mon Oct 29 20:46:02 +0000 2012  fake  \n",
       "...                                 ...   ...  \n",
       "14272  Tue Mar 11 03: 48: 36 +0000 2014  fake  \n",
       "14273  Mon Mar 10 18: 09: 26 +0000 2014  fake  \n",
       "14274  Mon Mar 10 10: 59: 45 +0000 2014  fake  \n",
       "14275  Sun Mar 09 20: 07: 10 +0000 2014  fake  \n",
       "14276  Sun Mar 09 16: 36: 09 +0000 2014  fake  \n",
       "\n",
       "[14277 rows x 7 columns]"
      ]
     },
     "execution_count": 3,
     "metadata": {},
     "output_type": "execute_result"
    }
   ],
   "source": [
    "trainData.info()\n",
    "trainData"
   ]
  },
  {
   "cell_type": "markdown",
   "id": "50467673-80f6-484b-94f7-6419a646f653",
   "metadata": {},
   "source": [
    "For some reason, some tweets have image links that are in the format http: \\/\\/t.co\\/(link). Some text is not in english (should it be translated?). Some timestamps are not in the right format and have spaces between them. There are many emojis. Some typos of words. Many special characters. "
   ]
  },
  {
   "cell_type": "code",
   "execution_count": 19,
   "id": "865f8a90-82ae-4469-b7b7-4a6e1b246e50",
   "metadata": {},
   "outputs": [
    {
     "data": {
      "text/plain": [
       "label\n",
       "fake     6742\n",
       "real     4921\n",
       "humor    2614\n",
       "Name: count, dtype: int64"
      ]
     },
     "execution_count": 19,
     "metadata": {},
     "output_type": "execute_result"
    }
   ],
   "source": [
    "trainData[\"label\"].value_counts()"
   ]
  },
  {
   "cell_type": "markdown",
   "id": "2db57aa7-96f1-4663-88aa-249fd08d9fae",
   "metadata": {},
   "source": [
    "There are three labels, fake, real and humor. Humor should be classified as fake so it will be changed. You could keep the humor label in a new column or do something with it for extra data, but for now it will just be converted to fake."
   ]
  },
  {
   "cell_type": "code",
   "execution_count": 5,
   "id": "1feebb3a-e64f-49a4-bced-d2d755d0b72a",
   "metadata": {},
   "outputs": [
    {
     "name": "stdout",
     "output_type": "stream",
     "text": [
      "tweetId\n",
      "264736470089216000    2\n",
      "263351427320131584    2\n",
      "263046056240115712    1\n",
      "263019084772421632    1\n",
      "263427804975206401    1\n",
      "                     ..\n",
      "263376004754583552    1\n",
      "263029335877906432    1\n",
      "262998664031649792    1\n",
      "263029070210686977    1\n",
      "442700377860104192    1\n",
      "Name: count, Length: 14275, dtype: int64\n"
     ]
    },
    {
     "data": {
      "text/html": [
       "<div>\n",
       "<style scoped>\n",
       "    .dataframe tbody tr th:only-of-type {\n",
       "        vertical-align: middle;\n",
       "    }\n",
       "\n",
       "    .dataframe tbody tr th {\n",
       "        vertical-align: top;\n",
       "    }\n",
       "\n",
       "    .dataframe thead th {\n",
       "        text-align: right;\n",
       "    }\n",
       "</style>\n",
       "<table border=\"1\" class=\"dataframe\">\n",
       "  <thead>\n",
       "    <tr style=\"text-align: right;\">\n",
       "      <th></th>\n",
       "      <th>tweetId</th>\n",
       "      <th>tweetText</th>\n",
       "      <th>userId</th>\n",
       "      <th>imageId(s)</th>\n",
       "      <th>username</th>\n",
       "      <th>timestamp</th>\n",
       "      <th>label</th>\n",
       "    </tr>\n",
       "  </thead>\n",
       "  <tbody>\n",
       "    <tr>\n",
       "      <th>2439</th>\n",
       "      <td>264736470089216000</td>\n",
       "      <td>Lower Manhattan's power is gone. Pretty eerie ...</td>\n",
       "      <td>2675041</td>\n",
       "      <td>sandyB_fake_11</td>\n",
       "      <td>cDima</td>\n",
       "      <td>Sat Nov 03 14:31:07 +0000 2012</td>\n",
       "      <td>fake</td>\n",
       "    </tr>\n",
       "    <tr>\n",
       "      <th>11947</th>\n",
       "      <td>264736470089216000</td>\n",
       "      <td>Lower Manhattan's power is gone. Pretty eerie ...</td>\n",
       "      <td>2675041</td>\n",
       "      <td>sandyB_real_54</td>\n",
       "      <td>cDima</td>\n",
       "      <td>Sat Nov 03 14:31:07 +0000 2012</td>\n",
       "      <td>real</td>\n",
       "    </tr>\n",
       "  </tbody>\n",
       "</table>\n",
       "</div>"
      ],
      "text/plain": [
       "                  tweetId                                          tweetText  \\\n",
       "2439   264736470089216000  Lower Manhattan's power is gone. Pretty eerie ...   \n",
       "11947  264736470089216000  Lower Manhattan's power is gone. Pretty eerie ...   \n",
       "\n",
       "        userId      imageId(s) username                       timestamp label  \n",
       "2439   2675041  sandyB_fake_11    cDima  Sat Nov 03 14:31:07 +0000 2012  fake  \n",
       "11947  2675041  sandyB_real_54    cDima  Sat Nov 03 14:31:07 +0000 2012  real  "
      ]
     },
     "execution_count": 5,
     "metadata": {},
     "output_type": "execute_result"
    }
   ],
   "source": [
    "print(trainData[\"tweetId\"].value_counts())\n",
    "trainData[trainData[\"tweetId\"] == 264736470089216000]\n",
    "#trainData[trainData[\"tweetId\"] == 263351427320131584]"
   ]
  },
  {
   "cell_type": "markdown",
   "id": "3b1bdb00-8611-4f4b-b9e3-df84993fc555",
   "metadata": {},
   "source": [
    "There are two tweets with the same tweetId? Not sure how this is possible?"
   ]
  },
  {
   "cell_type": "code",
   "execution_count": null,
   "id": "d63e6e41-76b4-43b9-a5df-4abae025aee4",
   "metadata": {},
   "outputs": [],
   "source": []
  },
  {
   "cell_type": "markdown",
   "id": "e4aaac20-5922-43c8-9f32-fe50bea2657d",
   "metadata": {},
   "source": [
    "# 3. Preprocessing"
   ]
  },
  {
   "cell_type": "markdown",
   "id": "1707256f-3c22-4a6f-bf6a-b6cacbb14fd3",
   "metadata": {},
   "source": [
    "All the categorical values need to be converted to some numerical value. Both fake and humour will be given the same categorical value of 1, with real being assigned 0. The hot encoder is currently unused but may be tested later."
   ]
  },
  {
   "cell_type": "code",
   "execution_count": 5,
   "id": "313d2715-d429-4345-bd1c-e3c274354f18",
   "metadata": {},
   "outputs": [],
   "source": [
    "from sklearn.preprocessing import OneHotEncoder\n",
    "\n",
    "def convertCategoriesToNumerical(dataset):\n",
    "    encoded_cat, categories = dataset[\"label\"].factorize() # retrieve the attribute encoded as numbers\n",
    "    encoded_cat_arr = OneHotEncoder().fit_transform(encoded_cat.reshape(-1,1)).toarray() # transform sparse matrix to NumPy array\n",
    "    enc_train_data = dataset.iloc[:,0:9].copy()\n",
    "    for i in range(0, len(categories)):\n",
    "        enc_train_data[categories[i]] = encoded_cat_arr[:,i]\n",
    "    enc_train_data = enc_train_data.drop('label', axis=1)\n",
    "    return enc_train_data\n",
    "\n",
    "def convertLabelToNumerical(dataset):\n",
    "    dataset['label'] = dataset['label'].map({'fake': 1, 'humor': 1, 'real': 0})\n",
    "    return dataset\n",
    "\n",
    "#trainData = convertCategoriesToNumerical(trainData)\n",
    "trainData = convertLabelToNumerical(trainData)\n",
    "testData = convertLabelToNumerical(testData)"
   ]
  },
  {
   "cell_type": "markdown",
   "id": "f6964afb-400d-41b1-baad-a74d174931a8",
   "metadata": {},
   "source": [
    "Next we need to check for any invalid data. For example if the length of a tweet is too long (having more than 280 characters). If the date is invalid. If the links to twitter posts are invalid. Duplicate tweet IDs."
   ]
  },
  {
   "cell_type": "code",
   "execution_count": null,
   "id": "2bbda74e-ef0e-4acc-b3e5-909be74d6865",
   "metadata": {},
   "outputs": [],
   "source": []
  },
  {
   "cell_type": "markdown",
   "id": "0900f8ba-9034-4935-a858-b68f1d322385",
   "metadata": {},
   "source": [
    "# 4. Training"
   ]
  },
  {
   "cell_type": "code",
   "execution_count": 6,
   "id": "aa34bebf-42ff-4ac1-9b71-bf003f13fe20",
   "metadata": {},
   "outputs": [
    {
     "ename": "SyntaxError",
     "evalue": "closing parenthesis ')' does not match opening parenthesis '[' (598755252.py, line 13)",
     "output_type": "error",
     "traceback": [
      "\u001b[1;36m  Cell \u001b[1;32mIn[6], line 13\u001b[1;36m\u001b[0m\n\u001b[1;33m    prediction = frst_regressor2.predict(test_set2.iloc[:, [idx for idx in range(len(test_set2.columns)) if idx != 6])\u001b[0m\n\u001b[1;37m                                                                                                                     ^\u001b[0m\n\u001b[1;31mSyntaxError\u001b[0m\u001b[1;31m:\u001b[0m closing parenthesis ')' does not match opening parenthesis '['\n"
     ]
    }
   ],
   "source": [
    "from sklearn.svm import SVR\n",
    "\n",
    "train_set2 = trainData\n",
    "test_set2 = testData\n",
    "\n",
    "svm_poly_reg = SVR(\n",
    "  kernel=\"poly\",\n",
    "  degree=2,\n",
    "  C=100,\n",
    "  epsilon=0.1)\n",
    "\n",
    "svm_poly_reg.fit(train_set2.iloc[:, [idx for idx in range(len(train_set2.columns)) if idx != 6]], train_set2['label'])\n",
    "prediction = frst_regressor2.predict(test_set2.iloc[:, [idx for idx in range(len(test_set2.columns)) if idx != 6])\n",
    "print('RMSE = ', np.sqrt(mean_squared_error(test_set2['label'], prediction)))"
   ]
  },
  {
   "cell_type": "code",
   "execution_count": null,
   "id": "03559fee-22b1-4b69-a49c-441f8c5476fe",
   "metadata": {},
   "outputs": [],
   "source": [
    "train_set2 = trainData\n",
    "test_set2 = testData\n",
    "\n",
    "from sklearn.ensemble import RandomForestRegressor\n",
    "\n",
    "frst_regressor2 = RandomForestRegressor()\n",
    "frst_regressor2.fit(train_set2.iloc[:, [idx for idx in range(len(train_set2.columns)) if idx != 6]], train_set2['label'])\n",
    "prediction4 = frst_regressor2.predict(test_set2.iloc[:, [idx for idx in range(len(test_set2.columns)) if idx != 6]])\n",
    "\n"
   ]
  },
  {
   "cell_type": "markdown",
   "id": "a25533e5-9c42-4cab-af7a-747d20394ce2",
   "metadata": {},
   "source": [
    "# 4. Evaluation"
   ]
  },
  {
   "cell_type": "code",
   "execution_count": null,
   "id": "5f6528f8-0285-40ea-9b46-d2ce7bade02d",
   "metadata": {},
   "outputs": [],
   "source": []
  }
 ],
 "metadata": {
  "kernelspec": {
   "display_name": "Python 3 (ipykernel)",
   "language": "python",
   "name": "python3"
  },
  "language_info": {
   "codemirror_mode": {
    "name": "ipython",
    "version": 3
   },
   "file_extension": ".py",
   "mimetype": "text/x-python",
   "name": "python",
   "nbconvert_exporter": "python",
   "pygments_lexer": "ipython3",
   "version": "3.11.5"
  }
 },
 "nbformat": 4,
 "nbformat_minor": 5
}
